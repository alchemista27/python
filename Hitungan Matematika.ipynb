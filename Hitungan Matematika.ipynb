{
 "cells": [
  {
   "cell_type": "code",
   "execution_count": 3,
   "id": "wound-george",
   "metadata": {},
   "outputs": [
    {
     "name": "stdout",
     "output_type": "stream",
     "text": [
      "1231.5043202071988\n",
      "615.7521601035994\n"
     ]
    }
   ],
   "source": [
    "import math\n",
    "d = 28\n",
    "r = 1/2 * d\n",
    "\n",
    "luas = 2*math.pi*r**2\n",
    "\n",
    "x = 1/2 * luas\n",
    "\n",
    "print (luas)\n",
    "print (x)"
   ]
  },
  {
   "cell_type": "code",
   "execution_count": 4,
   "id": "collected-thanksgiving",
   "metadata": {},
   "outputs": [
    {
     "name": "stdout",
     "output_type": "stream",
     "text": [
      "961.3273519984767\n"
     ]
    }
   ],
   "source": [
    "import math\n",
    "r = 9\n",
    "d = 2*9\n",
    "t = 17\n",
    "\n",
    "keliling = math.pi*d\n",
    "\n",
    "selimut = keliling*t\n",
    "\n",
    "print (selimut)"
   ]
  },
  {
   "cell_type": "code",
   "execution_count": 6,
   "id": "large-treasure",
   "metadata": {},
   "outputs": [
    {
     "name": "stdout",
     "output_type": "stream",
     "text": [
      "5.002012497173854\n"
     ]
    }
   ],
   "source": [
    "import math\n",
    "l = 440\n",
    "t = 14\n",
    "\n",
    "r = (l)/(2*math.pi*t)\n",
    "\n",
    "print (r)"
   ]
  },
  {
   "cell_type": "code",
   "execution_count": 7,
   "id": "bearing-florida",
   "metadata": {},
   "outputs": [
    {
     "name": "stdout",
     "output_type": "stream",
     "text": [
      "4750.0880922277665\n"
     ]
    }
   ],
   "source": [
    "import math\n",
    "r = 14\n",
    "t = 40\n",
    "\n",
    "tabung = (2*(math.pi*r**2))+(2*math.pi*r*t)\n",
    "\n",
    "print (tabung)"
   ]
  },
  {
   "cell_type": "code",
   "execution_count": 9,
   "id": "downtown-cleaning",
   "metadata": {},
   "outputs": [
    {
     "name": "stdout",
     "output_type": "stream",
     "text": [
      "4158\n"
     ]
    }
   ],
   "source": [
    "v = 66*63\n",
    "print (v)"
   ]
  },
  {
   "cell_type": "code",
   "execution_count": 10,
   "id": "young-check",
   "metadata": {},
   "outputs": [
    {
     "name": "stdout",
     "output_type": "stream",
     "text": [
      "6157.5216010359945\n"
     ]
    }
   ],
   "source": [
    "import math\n",
    "\n",
    "d = 28\n",
    "r = 1/2*d\n",
    "t = 10\n",
    "\n",
    "v = math.pi*r**2*t\n",
    "\n",
    "print (v)"
   ]
  },
  {
   "cell_type": "code",
   "execution_count": 11,
   "id": "willing-minneapolis",
   "metadata": {},
   "outputs": [
    {
     "name": "stdout",
     "output_type": "stream",
     "text": [
      "5.002012497173854\n"
     ]
    }
   ],
   "source": [
    "import math\n",
    "r = 7\n",
    "v = 770\n",
    "\n",
    "t = (v)/(math.pi*r**2)\n",
    "\n",
    "print (t)"
   ]
  },
  {
   "cell_type": "code",
   "execution_count": 14,
   "id": "located-formation",
   "metadata": {},
   "outputs": [
    {
     "name": "stdout",
     "output_type": "stream",
     "text": [
      "314.1592653589793\n"
     ]
    }
   ],
   "source": [
    "import math\n",
    "d = 10\n",
    "r = 1/2*d\n",
    "t = 4\n",
    "\n",
    "v = math.pi*r**2*t\n",
    "\n",
    "print (v)"
   ]
  },
  {
   "cell_type": "code",
   "execution_count": 17,
   "id": "casual-broadway",
   "metadata": {},
   "outputs": [
    {
     "name": "stdout",
     "output_type": "stream",
     "text": [
      "9.0\n"
     ]
    }
   ],
   "source": [
    "import math\n",
    "s = 41\n",
    "t = 40\n",
    "rsq = 41**2-40**2\n",
    "r = math.sqrt(rsq)\n",
    "\n",
    "print(r)"
   ]
  },
  {
   "cell_type": "code",
   "execution_count": 21,
   "id": "existing-democracy",
   "metadata": {},
   "outputs": [
    {
     "name": "stdout",
     "output_type": "stream",
     "text": [
      "25.0\n",
      "549.7787143782137\n"
     ]
    }
   ],
   "source": [
    "import math\n",
    "r = 7\n",
    "t = 24\n",
    "\n",
    "ssq = r**2+t**2\n",
    "s = math.sqrt(ssq)\n",
    "luas = math.pi*r*s\n",
    "\n",
    "print (s)\n",
    "print (luas)"
   ]
  },
  {
   "cell_type": "code",
   "execution_count": 22,
   "id": "sitting-television",
   "metadata": {},
   "outputs": [
    {
     "name": "stdout",
     "output_type": "stream",
     "text": [
      "29.0\n",
      "1822.12373908208\n"
     ]
    }
   ],
   "source": [
    "import math\n",
    "r = 20\n",
    "t = 21\n",
    "\n",
    "ssq = r**2+t**2\n",
    "s = math.sqrt(ssq)\n",
    "selimut = math.pi*r*s\n",
    "alas = \n",
    "\n",
    "print (s)\n",
    "print (luas)"
   ]
  },
  {
   "cell_type": "code",
   "execution_count": 2,
   "id": "spanish-panama",
   "metadata": {},
   "outputs": [
    {
     "name": "stdout",
     "output_type": "stream",
     "text": [
      "1822.12373908208\n",
      "1256.6370614359173\n",
      "3078.7608005179973\n"
     ]
    }
   ],
   "source": [
    "import math\n",
    "r = 20\n",
    "t = 21\n",
    "\n",
    "s = math.sqrt (r**2+t**2)\n",
    "selimut = math.pi*r*s\n",
    "alas = math.pi*r**2\n",
    "luas = selimut + alas\n",
    "\n",
    "print (selimut)\n",
    "print (alas)\n",
    "print (luas)"
   ]
  },
  {
   "cell_type": "code",
   "execution_count": 3,
   "id": "occupied-alexandria",
   "metadata": {},
   "outputs": [
    {
     "name": "stdout",
     "output_type": "stream",
     "text": [
      "314.15926535897927\n"
     ]
    }
   ],
   "source": [
    "import math\n",
    "r = 5\n",
    "t = 12\n",
    "\n",
    "volume = 1/3*(math.pi*r**2*t)\n",
    "\n",
    "print (volume)"
   ]
  },
  {
   "cell_type": "code",
   "execution_count": 4,
   "id": "organized-madagascar",
   "metadata": {},
   "outputs": [
    {
     "name": "stdout",
     "output_type": "stream",
     "text": [
      "24.0\n",
      "1231.5043202071988\n"
     ]
    }
   ],
   "source": [
    "import math\n",
    "s = 25\n",
    "r = 7\n",
    "\n",
    "t = math.sqrt (s**2-r**2)\n",
    "volume = 1/3*(math.pi*r**2*t)\n",
    "\n",
    "print (t)\n",
    "print (volume)"
   ]
  },
  {
   "cell_type": "code",
   "execution_count": 6,
   "id": "adult-supply",
   "metadata": {},
   "outputs": [
    {
     "name": "stdout",
     "output_type": "stream",
     "text": [
      "44.97718691776962\n"
     ]
    }
   ],
   "source": [
    "import math\n",
    "v = 4710\n",
    "r = 10\n",
    "\n",
    "t = (v*3)/(math.pi*r**2)\n",
    "print (t)"
   ]
  },
  {
   "cell_type": "code",
   "execution_count": 7,
   "id": "democratic-terminal",
   "metadata": {},
   "outputs": [
    {
     "name": "stdout",
     "output_type": "stream",
     "text": [
      "2463.0086404143976\n"
     ]
    }
   ],
   "source": [
    "import math\n",
    "r = 14\n",
    "\n",
    "luas = 4*math.pi*r**2\n",
    "\n",
    "print (luas)"
   ]
  },
  {
   "cell_type": "code",
   "execution_count": 9,
   "id": "judicial-creator",
   "metadata": {},
   "outputs": [
    {
     "name": "stdout",
     "output_type": "stream",
     "text": [
      "9.997464891746821\n"
     ]
    }
   ],
   "source": [
    "import math\n",
    "l = 1256\n",
    "\n",
    "r = math.sqrt (l/(4*math.pi))\n",
    "\n",
    "print (r)"
   ]
  },
  {
   "cell_type": "code",
   "execution_count": 13,
   "id": "steady-fence",
   "metadata": {},
   "outputs": [
    {
     "name": "stdout",
     "output_type": "stream",
     "text": [
      "1385.4423602330987\n"
     ]
    }
   ],
   "source": [
    "import math\n",
    "d = 21\n",
    "r = d/2\n",
    "\n",
    "luas = 4*math.pi*r**2\n",
    "\n",
    "print (luas)"
   ]
  },
  {
   "cell_type": "code",
   "execution_count": 14,
   "id": "phantom-swift",
   "metadata": {},
   "outputs": [
    {
     "name": "stdout",
     "output_type": "stream",
     "text": [
      "628.3185307179587\n"
     ]
    }
   ],
   "source": [
    "import math\n",
    "d = 20\n",
    "r = d/2\n",
    "\n",
    "luas = 2*math.pi*r**2\n",
    "\n",
    "print (luas)"
   ]
  },
  {
   "cell_type": "code",
   "execution_count": null,
   "id": "stable-algorithm",
   "metadata": {},
   "outputs": [],
   "source": []
  }
 ],
 "metadata": {
  "kernelspec": {
   "display_name": "Python 3",
   "language": "python",
   "name": "python3"
  },
  "language_info": {
   "codemirror_mode": {
    "name": "ipython",
    "version": 3
   },
   "file_extension": ".py",
   "mimetype": "text/x-python",
   "name": "python",
   "nbconvert_exporter": "python",
   "pygments_lexer": "ipython3",
   "version": "3.9.0"
  }
 },
 "nbformat": 4,
 "nbformat_minor": 5
}
